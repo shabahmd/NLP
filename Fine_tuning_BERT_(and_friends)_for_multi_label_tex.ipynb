{
  "metadata": {
    "kernelspec": {
      "language": "python",
      "display_name": "Python 3",
      "name": "python3"
    },
    "language_info": {
      "name": "python",
      "version": "3.10.14",
      "mimetype": "text/x-python",
      "codemirror_mode": {
        "name": "ipython",
        "version": 3
      },
      "pygments_lexer": "ipython3",
      "nbconvert_exporter": "python",
      "file_extension": ".py"
    },
    "kaggle": {
      "accelerator": "gpu",
      "dataSources": [],
      "dockerImageVersionId": 30762,
      "isInternetEnabled": true,
      "language": "python",
      "sourceType": "notebook",
      "isGpuEnabled": true
    },
    "colab": {
      "name": "Fine-tuning BERT (and friends) for multi-label tex",
      "provenance": [],
      "include_colab_link": true
    }
  },
  "nbformat_minor": 0,
  "nbformat": 4,
  "cells": [
    {
      "cell_type": "markdown",
      "metadata": {
        "id": "view-in-github",
        "colab_type": "text"
      },
      "source": [
        "<a href=\"https://colab.research.google.com/github/shabahmd/NLP/blob/main/Fine_tuning_BERT_(and_friends)_for_multi_label_tex.ipynb\" target=\"_parent\"><img src=\"https://colab.research.google.com/assets/colab-badge.svg\" alt=\"Open In Colab\"/></a>"
      ]
    },
    {
      "cell_type": "code",
      "source": [
        "# This Python 3 environment comes with many helpful analytics libraries installed\n",
        "# It is defined by the kaggle/python Docker image: https://github.com/kaggle/docker-python\n",
        "# For example, here's several helpful packages to load\n",
        "\n",
        "import numpy as np # linear algebra\n",
        "import pandas as pd # data processing, CSV file I/O (e.g. pd.read_csv)\n",
        "\n",
        "# Input data files are available in the read-only \"../input/\" directory\n",
        "# For example, running this (by clicking run or pressing Shift+Enter) will list all files under the input directory\n",
        "\n",
        "import os\n",
        "for dirname, _, filenames in os.walk('/kaggle/input'):\n",
        "    for filename in filenames:\n",
        "        print(os.path.join(dirname, filename))\n",
        "\n",
        "# You can write up to 20GB to the current directory (/kaggle/working/) that gets preserved as output when you create a version using \"Save & Run All\"\n",
        "# You can also write temporary files to /kaggle/temp/, but they won't be saved outside of the current session"
      ],
      "metadata": {
        "_uuid": "8f2839f25d086af736a60e9eeb907d3b93b6e0e5",
        "_cell_guid": "b1076dfc-b9ad-4769-8c92-a6c4dae69d19",
        "trusted": true,
        "id": "R93ijX82rtH5"
      },
      "execution_count": null,
      "outputs": []
    },
    {
      "cell_type": "code",
      "source": [
        "!pip install -q transformers datasets"
      ],
      "metadata": {
        "execution": {
          "iopub.status.busy": "2024-09-20T08:05:30.534276Z",
          "iopub.execute_input": "2024-09-20T08:05:30.53459Z",
          "iopub.status.idle": "2024-09-20T08:05:45.473938Z",
          "shell.execute_reply.started": "2024-09-20T08:05:30.534555Z",
          "shell.execute_reply": "2024-09-20T08:05:45.472644Z"
        },
        "trusted": true,
        "id": "fHhMQKVirtH_"
      },
      "execution_count": null,
      "outputs": []
    },
    {
      "cell_type": "code",
      "source": [
        "from datasets import load_dataset\n",
        "\n",
        "dataset = load_dataset(\"sem_eval_2018_task_1\", \"subtask5.english\")"
      ],
      "metadata": {
        "execution": {
          "iopub.status.busy": "2024-09-20T08:06:09.240735Z",
          "iopub.execute_input": "2024-09-20T08:06:09.241166Z",
          "iopub.status.idle": "2024-09-20T08:06:14.885786Z",
          "shell.execute_reply.started": "2024-09-20T08:06:09.241127Z",
          "shell.execute_reply": "2024-09-20T08:06:14.884745Z"
        },
        "trusted": true,
        "id": "4-EXpnZ0rtIA",
        "outputId": "cb72556d-386e-4670-f200-ee8efdfd6233",
        "colab": {
          "referenced_widgets": [
            "a68887aa64754135b74e468a01ffc390",
            "02f89ef38ffb49beb4127b6013bc9960",
            "9deba4a4239043108081d8ea85d6de7b",
            "613bf94a944544518ed90f5e4197f798"
          ]
        }
      },
      "execution_count": null,
      "outputs": [
        {
          "output_type": "stream",
          "name": "stdin",
          "text": "The repository for sem_eval_2018_task_1 contains custom code which must be executed to correctly load the dataset. You can inspect the repository content at https://hf.co/datasets/sem_eval_2018_task_1.\nYou can avoid this prompt in future by passing the argument `trust_remote_code=True`.\n\nDo you wish to run the custom code? [y/N]  y\n"
        },
        {
          "output_type": "display_data",
          "data": {
            "text/plain": "Downloading data:   0%|          | 0.00/5.98M [00:00<?, ?B/s]",
            "application/vnd.jupyter.widget-view+json": {
              "version_major": 2,
              "version_minor": 0,
              "model_id": "a68887aa64754135b74e468a01ffc390"
            }
          },
          "metadata": {}
        },
        {
          "output_type": "display_data",
          "data": {
            "text/plain": "Generating train split:   0%|          | 0/6838 [00:00<?, ? examples/s]",
            "application/vnd.jupyter.widget-view+json": {
              "version_major": 2,
              "version_minor": 0,
              "model_id": "02f89ef38ffb49beb4127b6013bc9960"
            }
          },
          "metadata": {}
        },
        {
          "output_type": "display_data",
          "data": {
            "text/plain": "Generating test split:   0%|          | 0/3259 [00:00<?, ? examples/s]",
            "application/vnd.jupyter.widget-view+json": {
              "version_major": 2,
              "version_minor": 0,
              "model_id": "9deba4a4239043108081d8ea85d6de7b"
            }
          },
          "metadata": {}
        },
        {
          "output_type": "display_data",
          "data": {
            "text/plain": "Generating validation split:   0%|          | 0/886 [00:00<?, ? examples/s]",
            "application/vnd.jupyter.widget-view+json": {
              "version_major": 2,
              "version_minor": 0,
              "model_id": "613bf94a944544518ed90f5e4197f798"
            }
          },
          "metadata": {}
        }
      ]
    },
    {
      "cell_type": "code",
      "source": [
        "dataset"
      ],
      "metadata": {
        "execution": {
          "iopub.status.busy": "2024-09-20T08:06:19.920431Z",
          "iopub.execute_input": "2024-09-20T08:06:19.92087Z",
          "iopub.status.idle": "2024-09-20T08:06:19.928557Z",
          "shell.execute_reply.started": "2024-09-20T08:06:19.920829Z",
          "shell.execute_reply": "2024-09-20T08:06:19.927536Z"
        },
        "trusted": true,
        "id": "X-ChPc2prtID",
        "outputId": "3096a55b-3fe4-473a-e738-3fa32dd8c9e4"
      },
      "execution_count": null,
      "outputs": [
        {
          "execution_count": 7,
          "output_type": "execute_result",
          "data": {
            "text/plain": "DatasetDict({\n    train: Dataset({\n        features: ['ID', 'Tweet', 'anger', 'anticipation', 'disgust', 'fear', 'joy', 'love', 'optimism', 'pessimism', 'sadness', 'surprise', 'trust'],\n        num_rows: 6838\n    })\n    test: Dataset({\n        features: ['ID', 'Tweet', 'anger', 'anticipation', 'disgust', 'fear', 'joy', 'love', 'optimism', 'pessimism', 'sadness', 'surprise', 'trust'],\n        num_rows: 3259\n    })\n    validation: Dataset({\n        features: ['ID', 'Tweet', 'anger', 'anticipation', 'disgust', 'fear', 'joy', 'love', 'optimism', 'pessimism', 'sadness', 'surprise', 'trust'],\n        num_rows: 886\n    })\n})"
          },
          "metadata": {}
        }
      ]
    },
    {
      "cell_type": "code",
      "source": [
        "example = dataset['train'][0]\n",
        "example"
      ],
      "metadata": {
        "execution": {
          "iopub.status.busy": "2024-09-20T08:06:20.095906Z",
          "iopub.execute_input": "2024-09-20T08:06:20.096296Z",
          "iopub.status.idle": "2024-09-20T08:06:20.107117Z",
          "shell.execute_reply.started": "2024-09-20T08:06:20.096253Z",
          "shell.execute_reply": "2024-09-20T08:06:20.106169Z"
        },
        "trusted": true,
        "id": "h0OjQtmprtIE",
        "outputId": "8408e951-558e-47b7-a313-e42f608a06cd"
      },
      "execution_count": null,
      "outputs": [
        {
          "execution_count": 8,
          "output_type": "execute_result",
          "data": {
            "text/plain": "{'ID': '2017-En-21441',\n 'Tweet': \"“Worry is a down payment on a problem you may never have'. \\xa0Joyce Meyer.  #motivation #leadership #worry\",\n 'anger': False,\n 'anticipation': True,\n 'disgust': False,\n 'fear': False,\n 'joy': False,\n 'love': False,\n 'optimism': True,\n 'pessimism': False,\n 'sadness': False,\n 'surprise': False,\n 'trust': True}"
          },
          "metadata": {}
        }
      ]
    },
    {
      "cell_type": "code",
      "source": [
        "labels = [label for label in dataset['train'].features.keys() if label not in['ID', 'Tweet']]\n",
        "id2label = {idx:label for idx, label in enumerate(labels)}\n",
        "label2id = {label:idx for idx, label in enumerate(labels)}\n",
        "labels"
      ],
      "metadata": {
        "execution": {
          "iopub.status.busy": "2024-09-20T08:06:20.210476Z",
          "iopub.execute_input": "2024-09-20T08:06:20.210894Z",
          "iopub.status.idle": "2024-09-20T08:06:20.219763Z",
          "shell.execute_reply.started": "2024-09-20T08:06:20.210855Z",
          "shell.execute_reply": "2024-09-20T08:06:20.218761Z"
        },
        "trusted": true,
        "id": "v-oZvTavrtIE",
        "outputId": "3c1a927e-9967-4032-bb98-3115e290dfc0"
      },
      "execution_count": null,
      "outputs": [
        {
          "execution_count": 9,
          "output_type": "execute_result",
          "data": {
            "text/plain": "['anger',\n 'anticipation',\n 'disgust',\n 'fear',\n 'joy',\n 'love',\n 'optimism',\n 'pessimism',\n 'sadness',\n 'surprise',\n 'trust']"
          },
          "metadata": {}
        }
      ]
    },
    {
      "cell_type": "code",
      "source": [
        "from transformers import AutoTokenizer\n",
        "import numpy as np\n",
        "\n",
        "tokenizer = AutoTokenizer.from_pretrained('bert-base-uncased') # You can replace 'bert-base-uncased' with your desired model\n",
        "\n",
        "def preprocess_data(examples):\n",
        "  text = examples['Tweet']\n",
        "  encoding = tokenizer(text, padding= \"max_length\", truncation = True, max_length= 128)\n",
        "  labels_batch = {k:  examples[k] for k in examples.keys() if k in labels}\n",
        "  labels_matrix = np.zeros((len(text), len(labels)))\n",
        "  for idx, label in enumerate(labels):\n",
        "    labels_matrix[:, idx] = labels_batch[label]\n",
        "  encoding['labels'] = labels_matrix.tolist()\n",
        "  return encoding"
      ],
      "metadata": {
        "execution": {
          "iopub.status.busy": "2024-09-20T08:06:20.385761Z",
          "iopub.execute_input": "2024-09-20T08:06:20.386775Z",
          "iopub.status.idle": "2024-09-20T08:06:20.488104Z",
          "shell.execute_reply.started": "2024-09-20T08:06:20.38673Z",
          "shell.execute_reply": "2024-09-20T08:06:20.487001Z"
        },
        "trusted": true,
        "id": "OuIWERrertIF",
        "outputId": "328d9ee5-443f-4b45-8652-48bcbeefc191"
      },
      "execution_count": null,
      "outputs": [
        {
          "name": "stderr",
          "text": "/opt/conda/lib/python3.10/site-packages/transformers/tokenization_utils_base.py:1601: FutureWarning: `clean_up_tokenization_spaces` was not set. It will be set to `True` by default. This behavior will be depracted in transformers v4.45, and will be then set to `False` by default. For more details check this issue: https://github.com/huggingface/transformers/issues/31884\n  warnings.warn(\n",
          "output_type": "stream"
        }
      ]
    },
    {
      "cell_type": "code",
      "source": [
        "encoded_dataset = dataset.map(preprocess_data, batched=True, remove_columns=dataset['train'].column_names)"
      ],
      "metadata": {
        "execution": {
          "iopub.status.busy": "2024-09-20T08:06:20.810352Z",
          "iopub.execute_input": "2024-09-20T08:06:20.811172Z",
          "iopub.status.idle": "2024-09-20T08:06:22.752661Z",
          "shell.execute_reply.started": "2024-09-20T08:06:20.811126Z",
          "shell.execute_reply": "2024-09-20T08:06:22.751746Z"
        },
        "trusted": true,
        "id": "AEKYKq9brtIG",
        "outputId": "d301dde4-ba2b-4bdf-f653-0cc337480edb",
        "colab": {
          "referenced_widgets": [
            "469df381f8e5432a8ee31449a0b01127",
            "d85142ac664040b288baee65e3fcdb3d",
            "56462ff57f63498a8cc02cab6ae49929"
          ]
        }
      },
      "execution_count": null,
      "outputs": [
        {
          "output_type": "display_data",
          "data": {
            "text/plain": "Map:   0%|          | 0/6838 [00:00<?, ? examples/s]",
            "application/vnd.jupyter.widget-view+json": {
              "version_major": 2,
              "version_minor": 0,
              "model_id": "469df381f8e5432a8ee31449a0b01127"
            }
          },
          "metadata": {}
        },
        {
          "output_type": "display_data",
          "data": {
            "text/plain": "Map:   0%|          | 0/3259 [00:00<?, ? examples/s]",
            "application/vnd.jupyter.widget-view+json": {
              "version_major": 2,
              "version_minor": 0,
              "model_id": "d85142ac664040b288baee65e3fcdb3d"
            }
          },
          "metadata": {}
        },
        {
          "output_type": "display_data",
          "data": {
            "text/plain": "Map:   0%|          | 0/886 [00:00<?, ? examples/s]",
            "application/vnd.jupyter.widget-view+json": {
              "version_major": 2,
              "version_minor": 0,
              "model_id": "56462ff57f63498a8cc02cab6ae49929"
            }
          },
          "metadata": {}
        }
      ]
    },
    {
      "cell_type": "code",
      "source": [
        "example = encoded_dataset['train'][0]\n",
        "print(example.keys())"
      ],
      "metadata": {
        "execution": {
          "iopub.status.busy": "2024-09-20T08:07:34.773265Z",
          "iopub.execute_input": "2024-09-20T08:07:34.774161Z",
          "iopub.status.idle": "2024-09-20T08:07:34.781436Z",
          "shell.execute_reply.started": "2024-09-20T08:07:34.77412Z",
          "shell.execute_reply": "2024-09-20T08:07:34.780438Z"
        },
        "trusted": true,
        "id": "pLyUlTG5rtIH",
        "outputId": "9026786b-4986-403b-f3e3-c3ca6876d4a0"
      },
      "execution_count": null,
      "outputs": [
        {
          "name": "stdout",
          "text": "dict_keys(['input_ids', 'token_type_ids', 'attention_mask', 'labels'])\n",
          "output_type": "stream"
        }
      ]
    },
    {
      "cell_type": "code",
      "source": [
        "tokenizer.decode(example['input_ids'])"
      ],
      "metadata": {
        "execution": {
          "iopub.status.busy": "2024-09-20T08:07:38.064635Z",
          "iopub.execute_input": "2024-09-20T08:07:38.065211Z",
          "iopub.status.idle": "2024-09-20T08:07:50.238774Z",
          "shell.execute_reply.started": "2024-09-20T08:07:38.065167Z",
          "shell.execute_reply": "2024-09-20T08:07:50.237801Z"
        },
        "trusted": true,
        "id": "7RLm7xx6rtIH",
        "outputId": "0d373fc6-b90c-4c62-af63-4ec8ebd6edb3"
      },
      "execution_count": null,
      "outputs": [
        {
          "execution_count": 13,
          "output_type": "execute_result",
          "data": {
            "text/plain": "\"[CLS] “ worry is a down payment on a problem you may never have '. joyce meyer. # motivation # leadership # worry [SEP] [PAD] [PAD] [PAD] [PAD] [PAD] [PAD] [PAD] [PAD] [PAD] [PAD] [PAD] [PAD] [PAD] [PAD] [PAD] [PAD] [PAD] [PAD] [PAD] [PAD] [PAD] [PAD] [PAD] [PAD] [PAD] [PAD] [PAD] [PAD] [PAD] [PAD] [PAD] [PAD] [PAD] [PAD] [PAD] [PAD] [PAD] [PAD] [PAD] [PAD] [PAD] [PAD] [PAD] [PAD] [PAD] [PAD] [PAD] [PAD] [PAD] [PAD] [PAD] [PAD] [PAD] [PAD] [PAD] [PAD] [PAD] [PAD] [PAD] [PAD] [PAD] [PAD] [PAD] [PAD] [PAD] [PAD] [PAD] [PAD] [PAD] [PAD] [PAD] [PAD] [PAD] [PAD] [PAD] [PAD] [PAD] [PAD] [PAD] [PAD] [PAD] [PAD] [PAD] [PAD] [PAD] [PAD] [PAD] [PAD] [PAD] [PAD] [PAD] [PAD] [PAD] [PAD] [PAD] [PAD] [PAD] [PAD] [PAD] [PAD] [PAD] [PAD]\""
          },
          "metadata": {}
        }
      ]
    },
    {
      "cell_type": "code",
      "source": [
        "example['labels']\n"
      ],
      "metadata": {
        "execution": {
          "iopub.status.busy": "2024-09-20T08:07:50.240648Z",
          "iopub.execute_input": "2024-09-20T08:07:50.241802Z",
          "iopub.status.idle": "2024-09-20T08:07:50.247985Z",
          "shell.execute_reply.started": "2024-09-20T08:07:50.241746Z",
          "shell.execute_reply": "2024-09-20T08:07:50.246949Z"
        },
        "trusted": true,
        "id": "wtR1b9GGrtII",
        "outputId": "2e0717c1-c620-4f9b-d3b9-0df2c8497de8"
      },
      "execution_count": null,
      "outputs": [
        {
          "execution_count": 14,
          "output_type": "execute_result",
          "data": {
            "text/plain": "[0.0, 1.0, 0.0, 0.0, 0.0, 0.0, 1.0, 0.0, 0.0, 0.0, 1.0]"
          },
          "metadata": {}
        }
      ]
    },
    {
      "cell_type": "code",
      "source": [
        "[id2label[idx] for idx, label in enumerate(example['labels']) if label == 1.0]"
      ],
      "metadata": {
        "execution": {
          "iopub.status.busy": "2024-09-20T08:07:50.249836Z",
          "iopub.execute_input": "2024-09-20T08:07:50.250541Z",
          "iopub.status.idle": "2024-09-20T08:07:50.290958Z",
          "shell.execute_reply.started": "2024-09-20T08:07:50.250485Z",
          "shell.execute_reply": "2024-09-20T08:07:50.289915Z"
        },
        "trusted": true,
        "id": "gGU6RF5LrtII",
        "outputId": "2be4de2a-1a23-4c9f-cffc-aa866792db0a"
      },
      "execution_count": null,
      "outputs": [
        {
          "execution_count": 15,
          "output_type": "execute_result",
          "data": {
            "text/plain": "['anticipation', 'optimism', 'trust']"
          },
          "metadata": {}
        }
      ]
    },
    {
      "cell_type": "code",
      "source": [
        "encoded_dataset.set_format('torch')"
      ],
      "metadata": {
        "execution": {
          "iopub.status.busy": "2024-09-20T08:07:50.293528Z",
          "iopub.execute_input": "2024-09-20T08:07:50.294488Z",
          "iopub.status.idle": "2024-09-20T08:07:50.300922Z",
          "shell.execute_reply.started": "2024-09-20T08:07:50.294452Z",
          "shell.execute_reply": "2024-09-20T08:07:50.299958Z"
        },
        "trusted": true,
        "id": "6Vz4WHplrtIJ"
      },
      "execution_count": null,
      "outputs": []
    },
    {
      "cell_type": "code",
      "source": [
        "from transformers import AutoModelForSequenceClassification\n",
        "\n",
        "model = AutoModelForSequenceClassification.from_pretrained(\"bert-base-uncased\",\n",
        "                                                           problem_type =\"multi_label_classification\",\n",
        "                                                           num_labels = len(labels),\n",
        "                                                           id2label= id2label,\n",
        "                                                           label2id = label2id)\n"
      ],
      "metadata": {
        "execution": {
          "iopub.status.busy": "2024-09-20T08:07:50.30253Z",
          "iopub.execute_input": "2024-09-20T08:07:50.302886Z",
          "iopub.status.idle": "2024-09-20T08:07:53.972417Z",
          "shell.execute_reply.started": "2024-09-20T08:07:50.302852Z",
          "shell.execute_reply": "2024-09-20T08:07:53.971371Z"
        },
        "trusted": true,
        "id": "kOBjqmP8rtIJ",
        "outputId": "f0364f0f-9d66-4cb5-8b9d-ef0c6f774657",
        "colab": {
          "referenced_widgets": [
            "fdd536670af6428b8ca5c5308b7da568"
          ]
        }
      },
      "execution_count": null,
      "outputs": [
        {
          "output_type": "display_data",
          "data": {
            "text/plain": "model.safetensors:   0%|          | 0.00/440M [00:00<?, ?B/s]",
            "application/vnd.jupyter.widget-view+json": {
              "version_major": 2,
              "version_minor": 0,
              "model_id": "fdd536670af6428b8ca5c5308b7da568"
            }
          },
          "metadata": {}
        },
        {
          "name": "stderr",
          "text": "A parameter name that contains `beta` will be renamed internally to `bias`. Please use a different name to suppress this warning.\nA parameter name that contains `gamma` will be renamed internally to `weight`. Please use a different name to suppress this warning.\nA parameter name that contains `beta` will be renamed internally to `bias`. Please use a different name to suppress this warning.\nA parameter name that contains `gamma` will be renamed internally to `weight`. Please use a different name to suppress this warning.\nA parameter name that contains `beta` will be renamed internally to `bias`. Please use a different name to suppress this warning.\nA parameter name that contains `gamma` will be renamed internally to `weight`. Please use a different name to suppress this warning.\nA parameter name that contains `beta` will be renamed internally to `bias`. Please use a different name to suppress this warning.\nA parameter name that contains `gamma` will be renamed internally to `weight`. Please use a different name to suppress this warning.\nA parameter name that contains `beta` will be renamed internally to `bias`. Please use a different name to suppress this warning.\nA parameter name that contains `gamma` will be renamed internally to `weight`. Please use a different name to suppress this warning.\nA parameter name that contains `beta` will be renamed internally to `bias`. Please use a different name to suppress this warning.\nA parameter name that contains `gamma` will be renamed internally to `weight`. Please use a different name to suppress this warning.\nA parameter name that contains `beta` will be renamed internally to `bias`. Please use a different name to suppress this warning.\nA parameter name that contains `gamma` will be renamed internally to `weight`. Please use a different name to suppress this warning.\nA parameter name that contains `beta` will be renamed internally to `bias`. Please use a different name to suppress this warning.\nA parameter name that contains `gamma` will be renamed internally to `weight`. Please use a different name to suppress this warning.\nA parameter name that contains `beta` will be renamed internally to `bias`. Please use a different name to suppress this warning.\nA parameter name that contains `gamma` will be renamed internally to `weight`. Please use a different name to suppress this warning.\nA parameter name that contains `beta` will be renamed internally to `bias`. Please use a different name to suppress this warning.\nA parameter name that contains `gamma` will be renamed internally to `weight`. Please use a different name to suppress this warning.\nA parameter name that contains `beta` will be renamed internally to `bias`. Please use a different name to suppress this warning.\nA parameter name that contains `gamma` will be renamed internally to `weight`. Please use a different name to suppress this warning.\nA parameter name that contains `beta` will be renamed internally to `bias`. Please use a different name to suppress this warning.\nA parameter name that contains `gamma` will be renamed internally to `weight`. Please use a different name to suppress this warning.\nA parameter name that contains `beta` will be renamed internally to `bias`. Please use a different name to suppress this warning.\nA parameter name that contains `gamma` will be renamed internally to `weight`. Please use a different name to suppress this warning.\nA parameter name that contains `beta` will be renamed internally to `bias`. Please use a different name to suppress this warning.\nA parameter name that contains `gamma` will be renamed internally to `weight`. Please use a different name to suppress this warning.\nA parameter name that contains `beta` will be renamed internally to `bias`. Please use a different name to suppress this warning.\nA parameter name that contains `gamma` will be renamed internally to `weight`. Please use a different name to suppress this warning.\nA parameter name that contains `beta` will be renamed internally to `bias`. Please use a different name to suppress this warning.\nA parameter name that contains `gamma` will be renamed internally to `weight`. Please use a different name to suppress this warning.\nA parameter name that contains `beta` will be renamed internally to `bias`. Please use a different name to suppress this warning.\nA parameter name that contains `gamma` will be renamed internally to `weight`. Please use a different name to suppress this warning.\nA parameter name that contains `beta` will be renamed internally to `bias`. Please use a different name to suppress this warning.\nA parameter name that contains `gamma` will be renamed internally to `weight`. Please use a different name to suppress this warning.\nA parameter name that contains `beta` will be renamed internally to `bias`. Please use a different name to suppress this warning.\nA parameter name that contains `gamma` will be renamed internally to `weight`. Please use a different name to suppress this warning.\nA parameter name that contains `beta` will be renamed internally to `bias`. Please use a different name to suppress this warning.\nA parameter name that contains `gamma` will be renamed internally to `weight`. Please use a different name to suppress this warning.\nA parameter name that contains `beta` will be renamed internally to `bias`. Please use a different name to suppress this warning.\nA parameter name that contains `gamma` will be renamed internally to `weight`. Please use a different name to suppress this warning.\nA parameter name that contains `beta` will be renamed internally to `bias`. Please use a different name to suppress this warning.\nA parameter name that contains `gamma` will be renamed internally to `weight`. Please use a different name to suppress this warning.\nA parameter name that contains `beta` will be renamed internally to `bias`. Please use a different name to suppress this warning.\nA parameter name that contains `gamma` will be renamed internally to `weight`. Please use a different name to suppress this warning.\nA parameter name that contains `beta` will be renamed internally to `bias`. Please use a different name to suppress this warning.\nA parameter name that contains `gamma` will be renamed internally to `weight`. Please use a different name to suppress this warning.\nA parameter name that contains `beta` will be renamed internally to `bias`. Please use a different name to suppress this warning.\nA parameter name that contains `gamma` will be renamed internally to `weight`. Please use a different name to suppress this warning.\nA parameter name that contains `beta` will be renamed internally to `bias`. Please use a different name to suppress this warning.\nA parameter name that contains `gamma` will be renamed internally to `weight`. Please use a different name to suppress this warning.\nSome weights of BertForSequenceClassification were not initialized from the model checkpoint at bert-base-uncased and are newly initialized: ['classifier.bias', 'classifier.weight']\nYou should probably TRAIN this model on a down-stream task to be able to use it for predictions and inference.\n",
          "output_type": "stream"
        }
      ]
    },
    {
      "cell_type": "code",
      "source": [
        "batch_size = 8\n",
        "metric_name = 'f1'"
      ],
      "metadata": {
        "execution": {
          "iopub.status.busy": "2024-09-20T08:07:53.973842Z",
          "iopub.execute_input": "2024-09-20T08:07:53.974423Z",
          "iopub.status.idle": "2024-09-20T08:07:53.978902Z",
          "shell.execute_reply.started": "2024-09-20T08:07:53.974387Z",
          "shell.execute_reply": "2024-09-20T08:07:53.977796Z"
        },
        "trusted": true,
        "id": "J1vg9YkartIK"
      },
      "execution_count": null,
      "outputs": []
    },
    {
      "cell_type": "code",
      "source": [
        "from transformers import TrainingArguments, Trainer\n",
        "\n",
        "args = TrainingArguments(\n",
        "    f\"bert-finished-sem_eval-english\",\n",
        "    eval_strategy = 'epoch',\n",
        "    save_strategy ='epoch',\n",
        "    learning_rate = 2e-5,\n",
        "    per_device_train_batch_size = batch_size,\n",
        "    per_device_eval_batch_size = batch_size,\n",
        "    num_train_epochs = 5,\n",
        "    weight_decay = 0.01,\n",
        "    load_best_model_at_end = True,\n",
        "    metric_for_best_model = metric_name,\n",
        ")"
      ],
      "metadata": {
        "execution": {
          "iopub.status.busy": "2024-09-20T08:08:57.674094Z",
          "iopub.execute_input": "2024-09-20T08:08:57.675367Z",
          "iopub.status.idle": "2024-09-20T08:08:57.705964Z",
          "shell.execute_reply.started": "2024-09-20T08:08:57.675324Z",
          "shell.execute_reply": "2024-09-20T08:08:57.704953Z"
        },
        "trusted": true,
        "id": "frJvkUvmrtIK"
      },
      "execution_count": null,
      "outputs": []
    },
    {
      "cell_type": "code",
      "source": [
        "from sklearn.metrics import f1_score, roc_auc_score, accuracy_score\n",
        "from transformers import EvalPrediction\n",
        "import torch\n",
        "\n",
        "# source: https://jesusleal.io/2021/04/21/Longformer-multilabel-classification/\n",
        "def multi_label_metrics(predictions, labels, threshold=0.5):\n",
        "    # first, apply sigmoid on predictions which are of shape (batch_size, num_labels)\n",
        "    sigmoid = torch.nn.Sigmoid()\n",
        "    probs = sigmoid(torch.Tensor(predictions))\n",
        "    # next, use threshold to turn them into integer predictions\n",
        "    y_pred = np.zeros(probs.shape)\n",
        "    y_pred[np.where(probs >= threshold)] = 1\n",
        "    # finally, compute metrics\n",
        "    y_true = labels\n",
        "    f1_micro_average = f1_score(y_true=y_true, y_pred=y_pred, average='micro')\n",
        "    roc_auc = roc_auc_score(y_true, y_pred, average = 'micro')\n",
        "    accuracy = accuracy_score(y_true, y_pred)\n",
        "    # return as dictionary\n",
        "    metrics = {'f1': f1_micro_average,\n",
        "               'roc_auc': roc_auc,\n",
        "               'accuracy': accuracy}\n",
        "    return metrics\n",
        "\n",
        "def compute_metrics(p: EvalPrediction):\n",
        "    preds = p.predictions[0] if isinstance(p.predictions,\n",
        "            tuple) else p.predictions\n",
        "    result = multi_label_metrics(\n",
        "        predictions=preds,\n",
        "        labels=p.label_ids)\n",
        "    return result"
      ],
      "metadata": {
        "execution": {
          "iopub.status.busy": "2024-09-20T08:41:03.527136Z",
          "iopub.execute_input": "2024-09-20T08:41:03.527626Z",
          "iopub.status.idle": "2024-09-20T08:41:03.539813Z",
          "shell.execute_reply.started": "2024-09-20T08:41:03.527555Z",
          "shell.execute_reply": "2024-09-20T08:41:03.53843Z"
        },
        "trusted": true,
        "id": "pArWLyl5rtIK"
      },
      "execution_count": null,
      "outputs": []
    },
    {
      "cell_type": "code",
      "source": [
        "encoded_dataset['train'][0]['labels'].type()"
      ],
      "metadata": {
        "execution": {
          "iopub.status.busy": "2024-09-20T08:41:06.319704Z",
          "iopub.execute_input": "2024-09-20T08:41:06.320418Z",
          "iopub.status.idle": "2024-09-20T08:41:06.331762Z",
          "shell.execute_reply.started": "2024-09-20T08:41:06.320375Z",
          "shell.execute_reply": "2024-09-20T08:41:06.330458Z"
        },
        "trusted": true,
        "id": "nUY9RY9rrtIL",
        "outputId": "da345fe0-9ed8-45dc-ecb8-54708c0aa983"
      },
      "execution_count": null,
      "outputs": [
        {
          "execution_count": 38,
          "output_type": "execute_result",
          "data": {
            "text/plain": "'torch.FloatTensor'"
          },
          "metadata": {}
        }
      ]
    },
    {
      "cell_type": "code",
      "source": [
        "encoded_dataset['train']['input_ids'][0]"
      ],
      "metadata": {
        "execution": {
          "iopub.status.busy": "2024-09-20T08:41:07.706771Z",
          "iopub.execute_input": "2024-09-20T08:41:07.707168Z",
          "iopub.status.idle": "2024-09-20T08:41:07.739372Z",
          "shell.execute_reply.started": "2024-09-20T08:41:07.707131Z",
          "shell.execute_reply": "2024-09-20T08:41:07.738243Z"
        },
        "trusted": true,
        "id": "CyZl5O9crtIL",
        "outputId": "d47ddf5c-0b7c-4f10-be50-f398ba5c9d9d"
      },
      "execution_count": null,
      "outputs": [
        {
          "execution_count": 39,
          "output_type": "execute_result",
          "data": {
            "text/plain": "tensor([  101,  1523,  4737,  2003,  1037,  2091,  7909,  2006,  1037,  3291,\n         2017,  2089,  2196,  2031,  1005,  1012, 11830, 11527,  1012,  1001,\n        14354,  1001,  4105,  1001,  4737,   102,     0,     0,     0,     0,\n            0,     0,     0,     0,     0,     0,     0,     0,     0,     0,\n            0,     0,     0,     0,     0,     0,     0,     0,     0,     0,\n            0,     0,     0,     0,     0,     0,     0,     0,     0,     0,\n            0,     0,     0,     0,     0,     0,     0,     0,     0,     0,\n            0,     0,     0,     0,     0,     0,     0,     0,     0,     0,\n            0,     0,     0,     0,     0,     0,     0,     0,     0,     0,\n            0,     0,     0,     0,     0,     0,     0,     0,     0,     0,\n            0,     0,     0,     0,     0,     0,     0,     0,     0,     0,\n            0,     0,     0,     0,     0,     0,     0,     0,     0,     0,\n            0,     0,     0,     0,     0,     0,     0,     0])"
          },
          "metadata": {}
        }
      ]
    },
    {
      "cell_type": "code",
      "source": [
        "#forward pass\n",
        "outputs = model(input_ids=encoded_dataset['train']['input_ids'][0].unsqueeze(0), labels=encoded_dataset['train'][0]['labels'].unsqueeze(0))\n",
        "outputs"
      ],
      "metadata": {
        "trusted": true,
        "id": "KIOWTOusrtIL",
        "outputId": "3fc8e897-a755-4fa0-e081-81ca55121f73"
      },
      "execution_count": null,
      "outputs": [
        {
          "execution_count": 41,
          "output_type": "execute_result",
          "data": {
            "text/plain": "SequenceClassifierOutput(loss=tensor(0.7584, grad_fn=<BinaryCrossEntropyWithLogitsBackward0>), logits=tensor([[ 0.2341, -0.4912,  0.3039,  0.5570,  0.3990, -0.4093,  0.1071,  0.0127,\n         -0.1739,  0.0956,  0.2491]], grad_fn=<AddmmBackward0>), hidden_states=None, attentions=None)"
          },
          "metadata": {}
        }
      ]
    },
    {
      "cell_type": "code",
      "source": [
        "trainer = Trainer(\n",
        "    model,\n",
        "    args,\n",
        "    train_dataset=encoded_dataset[\"train\"],\n",
        "    eval_dataset=encoded_dataset[\"validation\"],\n",
        "    tokenizer=tokenizer,\n",
        "    compute_metrics=compute_metrics\n",
        ")"
      ],
      "metadata": {
        "execution": {
          "iopub.status.busy": "2024-09-20T08:41:48.48905Z",
          "iopub.execute_input": "2024-09-20T08:41:48.48988Z",
          "iopub.status.idle": "2024-09-20T08:41:48.505623Z",
          "shell.execute_reply.started": "2024-09-20T08:41:48.489838Z",
          "shell.execute_reply": "2024-09-20T08:41:48.504371Z"
        },
        "trusted": true,
        "id": "XinMyCz3rtIL"
      },
      "execution_count": null,
      "outputs": []
    },
    {
      "cell_type": "code",
      "source": [
        "trainer.train()\n",
        "\n"
      ],
      "metadata": {
        "execution": {
          "iopub.status.busy": "2024-09-20T08:41:56.747673Z",
          "iopub.execute_input": "2024-09-20T08:41:56.748667Z",
          "iopub.status.idle": "2024-09-20T08:51:19.599706Z",
          "shell.execute_reply.started": "2024-09-20T08:41:56.748585Z",
          "shell.execute_reply": "2024-09-20T08:51:19.598684Z"
        },
        "trusted": true,
        "id": "xDaoshxbrtIM",
        "outputId": "c0fbe496-c787-4771-8895-be6fd5e3b6c2"
      },
      "execution_count": null,
      "outputs": [
        {
          "output_type": "display_data",
          "data": {
            "text/plain": "<IPython.core.display.HTML object>",
            "text/html": "\n    <div>\n      \n      <progress value='4275' max='4275' style='width:300px; height:20px; vertical-align: middle;'></progress>\n      [4275/4275 09:22, Epoch 5/5]\n    </div>\n    <table border=\"1\" class=\"dataframe\">\n  <thead>\n <tr style=\"text-align: left;\">\n      <th>Epoch</th>\n      <th>Training Loss</th>\n      <th>Validation Loss</th>\n      <th>F1</th>\n      <th>Roc Auc</th>\n      <th>Accuracy</th>\n    </tr>\n  </thead>\n  <tbody>\n    <tr>\n      <td>1</td>\n      <td>0.205200</td>\n      <td>0.328453</td>\n      <td>0.706930</td>\n      <td>0.805215</td>\n      <td>0.265237</td>\n    </tr>\n    <tr>\n      <td>2</td>\n      <td>0.177200</td>\n      <td>0.332484</td>\n      <td>0.706253</td>\n      <td>0.803625</td>\n      <td>0.267494</td>\n    </tr>\n    <tr>\n      <td>3</td>\n      <td>0.144300</td>\n      <td>0.347847</td>\n      <td>0.706080</td>\n      <td>0.804886</td>\n      <td>0.253950</td>\n    </tr>\n    <tr>\n      <td>4</td>\n      <td>0.122000</td>\n      <td>0.357944</td>\n      <td>0.697073</td>\n      <td>0.797015</td>\n      <td>0.249436</td>\n    </tr>\n    <tr>\n      <td>5</td>\n      <td>0.105500</td>\n      <td>0.361230</td>\n      <td>0.700024</td>\n      <td>0.798699</td>\n      <td>0.253950</td>\n    </tr>\n  </tbody>\n</table><p>"
          },
          "metadata": {}
        },
        {
          "execution_count": 43,
          "output_type": "execute_result",
          "data": {
            "text/plain": "TrainOutput(global_step=4275, training_loss=0.14896232158817047, metrics={'train_runtime': 562.3233, 'train_samples_per_second': 60.801, 'train_steps_per_second': 7.602, 'total_flos': 2249123476753920.0, 'train_loss': 0.14896232158817047, 'epoch': 5.0})"
          },
          "metadata": {}
        }
      ]
    },
    {
      "cell_type": "code",
      "source": [
        "trainer.evaluate()"
      ],
      "metadata": {
        "execution": {
          "iopub.status.busy": "2024-09-20T08:51:48.15737Z",
          "iopub.execute_input": "2024-09-20T08:51:48.157979Z",
          "iopub.status.idle": "2024-09-20T08:51:52.074629Z",
          "shell.execute_reply.started": "2024-09-20T08:51:48.157905Z",
          "shell.execute_reply": "2024-09-20T08:51:52.073498Z"
        },
        "trusted": true,
        "id": "SkgML0b0rtIM",
        "outputId": "26b4ca45-4b8f-49a6-ddfb-e89dc156f496"
      },
      "execution_count": null,
      "outputs": [
        {
          "output_type": "display_data",
          "data": {
            "text/plain": "<IPython.core.display.HTML object>",
            "text/html": "\n    <div>\n      \n      <progress value='111' max='111' style='width:300px; height:20px; vertical-align: middle;'></progress>\n      [111/111 00:03]\n    </div>\n    "
          },
          "metadata": {}
        },
        {
          "execution_count": 44,
          "output_type": "execute_result",
          "data": {
            "text/plain": "{'eval_loss': 0.328453004360199,\n 'eval_f1': 0.706929740134745,\n 'eval_roc_auc': 0.805215242217082,\n 'eval_accuracy': 0.2652370203160271,\n 'eval_runtime': 3.9003,\n 'eval_samples_per_second': 227.159,\n 'eval_steps_per_second': 28.459,\n 'epoch': 5.0}"
          },
          "metadata": {}
        }
      ]
    },
    {
      "cell_type": "code",
      "source": [
        "text = \"\"\"\n",
        "I can't wait to go\n",
        "Back and do Japan\n",
        "Get me lots of brand new fans\n",
        "Osaka, Tokyo\n",
        "You Harajuku girls\n",
        "Damn, you've got some wicked style, go\n",
        "Look at your watch now\n",
        "You're still a super hot female\n",
        "You got your million dollar contract\n",
        "And they're all waiting for your hot track\n",
        "What you waiting\n",
        "What you waiting\n",
        "\n",
        "\"\"\"\n",
        "encoding = tokenizer(text, return_tensors=\"pt\")\n",
        "encoding = {k: v.to(trainer.model.device) for k,v in encoding.items()}\n",
        "\n",
        "outputs = trainer.model(**encoding)"
      ],
      "metadata": {
        "execution": {
          "iopub.status.busy": "2024-09-20T09:05:37.002664Z",
          "iopub.execute_input": "2024-09-20T09:05:37.00357Z",
          "iopub.status.idle": "2024-09-20T09:05:37.028142Z",
          "shell.execute_reply.started": "2024-09-20T09:05:37.003509Z",
          "shell.execute_reply": "2024-09-20T09:05:37.027223Z"
        },
        "trusted": true,
        "id": "cRDKVv0srtIM"
      },
      "execution_count": null,
      "outputs": []
    },
    {
      "cell_type": "code",
      "source": [
        "logits = outputs.logits\n",
        "logits.shape"
      ],
      "metadata": {
        "execution": {
          "iopub.status.busy": "2024-09-20T09:05:38.373537Z",
          "iopub.execute_input": "2024-09-20T09:05:38.373998Z",
          "iopub.status.idle": "2024-09-20T09:05:38.382576Z",
          "shell.execute_reply.started": "2024-09-20T09:05:38.373954Z",
          "shell.execute_reply": "2024-09-20T09:05:38.381062Z"
        },
        "trusted": true,
        "id": "wykRn1D-rtIN",
        "outputId": "8485b7a4-7cb7-41c7-bb43-2be83b7a63e2"
      },
      "execution_count": null,
      "outputs": [
        {
          "execution_count": 76,
          "output_type": "execute_result",
          "data": {
            "text/plain": "torch.Size([1, 11])"
          },
          "metadata": {}
        }
      ]
    },
    {
      "cell_type": "code",
      "source": [
        "sigmoid = torch.nn.Sigmoid()\n",
        "\n",
        "probs = sigmoid(logits.squeeze().cpu())\n",
        "\n",
        "predictions = np.zeros(probs.shape)\n",
        "\n",
        "predictions[np.where(probs >= 0.5)] =1\n",
        "\n",
        "predicted_labels = [id2label[idx] for idx, label in enumerate(predictions) if label == 1.0]\n",
        "print(predicted_labels)"
      ],
      "metadata": {
        "execution": {
          "iopub.status.busy": "2024-09-20T09:05:38.952091Z",
          "iopub.execute_input": "2024-09-20T09:05:38.953004Z",
          "iopub.status.idle": "2024-09-20T09:05:38.964178Z",
          "shell.execute_reply.started": "2024-09-20T09:05:38.952958Z",
          "shell.execute_reply": "2024-09-20T09:05:38.963055Z"
        },
        "trusted": true,
        "id": "s_8oTaf1rtIN",
        "outputId": "f7c8a644-9ec4-4f32-84e9-65b64505de87"
      },
      "execution_count": null,
      "outputs": [
        {
          "name": "stdout",
          "text": "['anger', 'disgust', 'joy']\n",
          "output_type": "stream"
        }
      ]
    },
    {
      "cell_type": "code",
      "source": [],
      "metadata": {
        "id": "K4o7nD-irtIO"
      },
      "execution_count": null,
      "outputs": []
    }
  ]
}